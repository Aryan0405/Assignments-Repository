{
  "nbformat": 4,
  "nbformat_minor": 0,
  "metadata": {
    "colab": {
      "provenance": []
    },
    "kernelspec": {
      "name": "python3",
      "display_name": "Python 3"
    },
    "language_info": {
      "name": "python"
    }
  },
  "cells": [
    {
      "cell_type": "code",
      "execution_count": null,
      "metadata": {
        "colab": {
          "base_uri": "https://localhost:8080/"
        },
        "id": "9A4iu6RIERu3",
        "outputId": "9f85875a-7d5f-4b06-8fe7-ad11d2baf10d"
      },
      "outputs": [
        {
          "output_type": "stream",
          "name": "stdout",
          "text": [
            "Hello world\n"
          ]
        },
        {
          "output_type": "execute_result",
          "data": {
            "text/plain": [
              "int"
            ]
          },
          "metadata": {},
          "execution_count": 8
        }
      ],
      "source": [
        "'''1.explain the key features of Python that makes it a popular programming language to learn.\n",
        "--> Python is an easy programming language to learn. It is considered relatively easier than other programming languages like c++ and java script. It reads line by line and this helps in testing as it provides syntax which we can debug. It can work in several platforms like linux macos and windows too. It has very large libraries which is very easily accessible.'''\n",
        "'''2.Describe the role of predefined keywords in Python and provide examples of how they are used in a\n",
        "program.\n",
        "--> Predefined keywords are special words with a specific assigned function. For example: print, type.'''\n",
        "'''these two keywords have a pretty much self explanatory role which is to print whatever encloses the \"\" and type tells us about the type of variable entered within the bracket.'''\n",
        "\n",
        "print(\"Hello world\")\n",
        "a = 10\n",
        "type(a)\n",
        "\n",
        "\n",
        "\n"
      ]
    },
    {
      "cell_type": "code",
      "source": [
        "'''3.Compare and contrast mutable and immutable objects in Python with examples.'''\n",
        "'''--> Mutable objects are those objects whose value can be changed after they are assigned. Immutable objects are those which cannot be changed after it is assigned.an example of mutable objeact is list and an example of immutable object is string.'''\n",
        "\n",
        "list_cont=[1,2,\"Aryan\"]\n",
        "list_cont[0]"
      ],
      "metadata": {
        "colab": {
          "base_uri": "https://localhost:8080/"
        },
        "id": "R1wbIvgiHOkK",
        "outputId": "4d27e935-709f-411b-8ca3-ee8754a7ebed"
      },
      "execution_count": null,
      "outputs": [
        {
          "output_type": "execute_result",
          "data": {
            "text/plain": [
              "1"
            ]
          },
          "metadata": {},
          "execution_count": 19
        }
      ]
    },
    {
      "cell_type": "code",
      "source": [
        "list_cont[0] = 5\n",
        "list_cont[0]"
      ],
      "metadata": {
        "colab": {
          "base_uri": "https://localhost:8080/"
        },
        "id": "M7Zwjl0hIEjR",
        "outputId": "bce1d5ee-70d5-424a-de20-32fa36112424"
      },
      "execution_count": null,
      "outputs": [
        {
          "output_type": "execute_result",
          "data": {
            "text/plain": [
              "5"
            ]
          },
          "metadata": {},
          "execution_count": 21
        }
      ]
    },
    {
      "cell_type": "code",
      "source": [
        "'''4.Discuss the different types of operators in Python and provide examples of how they are used.'''\n",
        "'''-->a)Arithmetic operators : '+','-','*','/','%'. Used for mathematical operations.\n",
        "b)comparison operators : fpr comparison of differemt values.'==','!=' are some examples.\n",
        "c)Logical operators : #and & #or\n",
        "d) Assignment operators which assign value like '='. For eg: a = 5\n",
        "e) Membership operator\n",
        "f) Identity operator\n",
        "g) Bitwise operator\n",
        "h) Negation operator\n",
        "i) Bitwise operator\n",
        "j) Shift operator'''"
      ],
      "metadata": {
        "id": "WfsaUAsGMSEu",
        "colab": {
          "base_uri": "https://localhost:8080/",
          "height": 70
        },
        "outputId": "dd1693a8-8c49-42a2-c838-426941ed8edb"
      },
      "execution_count": 24,
      "outputs": [
        {
          "output_type": "execute_result",
          "data": {
            "text/plain": [
              "\"-->a)Arithmetic operators : '+','-','*','/','%'. Used for mathematical operations.\\nb)comparison operators : fpr comparison of differemt values.'==','!=' are some examples.\\nc)Logical operators : #and & #or\\nd) Assignment operators which assign value like '='. For eg: a = 5\\ne) Membership operator\\nf) Identity operator\\ng) Bitwise operator\\nh) Negation operator\\ni) Bitwise operator \\nj) Shift operator\""
            ],
            "application/vnd.google.colaboratory.intrinsic+json": {
              "type": "string"
            }
          },
          "metadata": {},
          "execution_count": 24
        }
      ]
    },
    {
      "cell_type": "code",
      "source": [
        "'''5.Explain the concept of type casting in Python with examples.'''\n",
        "'''-->type casting is a process in which we change the type of the value.'''\n",
        "a = 10\n",
        "type(a)"
      ],
      "metadata": {
        "colab": {
          "base_uri": "https://localhost:8080/"
        },
        "id": "NU6am8BYR-00",
        "outputId": "fa2adb79-9a80-4f61-e7ff-b89cc9e3782c"
      },
      "execution_count": 25,
      "outputs": [
        {
          "output_type": "execute_result",
          "data": {
            "text/plain": [
              "int"
            ]
          },
          "metadata": {},
          "execution_count": 25
        }
      ]
    },
    {
      "cell_type": "code",
      "source": [
        "str(a)"
      ],
      "metadata": {
        "colab": {
          "base_uri": "https://localhost:8080/",
          "height": 36
        },
        "id": "sbRKdKKQTkBF",
        "outputId": "2ea84931-3cbf-4860-d28b-32e17742ce76"
      },
      "execution_count": 26,
      "outputs": [
        {
          "output_type": "execute_result",
          "data": {
            "text/plain": [
              "'10'"
            ],
            "application/vnd.google.colaboratory.intrinsic+json": {
              "type": "string"
            }
          },
          "metadata": {},
          "execution_count": 26
        }
      ]
    },
    {
      "cell_type": "code",
      "source": [
        "float(a)"
      ],
      "metadata": {
        "colab": {
          "base_uri": "https://localhost:8080/"
        },
        "id": "k4_zeHsjTmK9",
        "outputId": "17ac6bf1-8724-477a-8f63-9bbaba680508"
      },
      "execution_count": 27,
      "outputs": [
        {
          "output_type": "execute_result",
          "data": {
            "text/plain": [
              "10.0"
            ]
          },
          "metadata": {},
          "execution_count": 27
        }
      ]
    },
    {
      "cell_type": "code",
      "source": [
        "int(True)"
      ],
      "metadata": {
        "colab": {
          "base_uri": "https://localhost:8080/"
        },
        "id": "nCjgv4WwTplS",
        "outputId": "90d84fe4-eb01-43be-fb8c-faabd105b4cc"
      },
      "execution_count": 28,
      "outputs": [
        {
          "output_type": "execute_result",
          "data": {
            "text/plain": [
              "1"
            ]
          },
          "metadata": {},
          "execution_count": 28
        }
      ]
    },
    {
      "cell_type": "code",
      "source": [
        "'''6.How do conditional statements work in Python? Illustrate with examples.'''\n",
        "'''--> if a statement is written with a condition placed it is a conditional statement'''\n",
        "\n",
        "a = 10\n",
        "b = 5\n",
        "if b>=10:\n",
        "  print(\"b is greater than 10\")\n",
        "else:\n",
        "  print(\"b is smaller than a\")"
      ],
      "metadata": {
        "colab": {
          "base_uri": "https://localhost:8080/"
        },
        "id": "TsOCg0VhTu-F",
        "outputId": "1bbbdfa5-6bf4-4683-a733-8330da2f125a"
      },
      "execution_count": 30,
      "outputs": [
        {
          "output_type": "stream",
          "name": "stdout",
          "text": [
            "b is smaller than a\n"
          ]
        }
      ]
    },
    {
      "cell_type": "code",
      "source": [
        "'''7.Describe the different types of loops in Python and their use cases with examples.'''\n",
        "'''-->for loop and while loops are the two types of loops we use in python.'''"
      ],
      "metadata": {
        "colab": {
          "base_uri": "https://localhost:8080/",
          "height": 36
        },
        "id": "gYl8x7QTUj4q",
        "outputId": "e3a97700-7c8b-4cd1-bc54-490249a25178"
      },
      "execution_count": 31,
      "outputs": [
        {
          "output_type": "execute_result",
          "data": {
            "text/plain": [
              "'-->for loop and while loops are the two types of loops we use in python.'"
            ],
            "application/vnd.google.colaboratory.intrinsic+json": {
              "type": "string"
            }
          },
          "metadata": {},
          "execution_count": 31
        }
      ]
    },
    {
      "cell_type": "code",
      "source": [
        "n = 23\n",
        "i  = 1\n",
        "while i < n:\n",
        "  print(i)\n",
        "  i=i+1"
      ],
      "metadata": {
        "colab": {
          "base_uri": "https://localhost:8080/"
        },
        "id": "kq4tGPjyVqwa",
        "outputId": "790c6d89-2d96-4e1f-8871-67bb0914483f"
      },
      "execution_count": 32,
      "outputs": [
        {
          "output_type": "stream",
          "name": "stdout",
          "text": [
            "1\n",
            "2\n",
            "3\n",
            "4\n",
            "5\n",
            "6\n",
            "7\n",
            "8\n",
            "9\n",
            "10\n",
            "11\n",
            "12\n",
            "13\n",
            "14\n",
            "15\n",
            "16\n",
            "17\n",
            "18\n",
            "19\n",
            "20\n",
            "21\n",
            "22\n"
          ]
        }
      ]
    },
    {
      "cell_type": "code",
      "source": [
        "n = 23\n",
        "i  = 1\n",
        "while i < n:\n",
        "  print(i)\n",
        "  i=i+1\n",
        "  if i == 16:\n",
        "    break"
      ],
      "metadata": {
        "colab": {
          "base_uri": "https://localhost:8080/"
        },
        "id": "q64sh7DBWFam",
        "outputId": "95509692-8ea5-4743-c863-fa06b8ca07b5"
      },
      "execution_count": 33,
      "outputs": [
        {
          "output_type": "stream",
          "name": "stdout",
          "text": [
            "1\n",
            "2\n",
            "3\n",
            "4\n",
            "5\n",
            "6\n",
            "7\n",
            "8\n",
            "9\n",
            "10\n",
            "11\n",
            "12\n",
            "13\n",
            "14\n",
            "15\n"
          ]
        }
      ]
    },
    {
      "cell_type": "code",
      "source": [
        "for i in 'Aryan':\n",
        "  print(i)"
      ],
      "metadata": {
        "colab": {
          "base_uri": "https://localhost:8080/"
        },
        "id": "srNJSIhMWpIp",
        "outputId": "e742712c-ddf4-4cbd-80b5-8315f1f1a4f2"
      },
      "execution_count": 37,
      "outputs": [
        {
          "output_type": "stream",
          "name": "stdout",
          "text": [
            "A\n",
            "r\n",
            "y\n",
            "a\n",
            "n\n"
          ]
        }
      ]
    },
    {
      "cell_type": "code",
      "source": [
        "for i in 'Aryan':\n",
        "  print(i,end=\" \")"
      ],
      "metadata": {
        "colab": {
          "base_uri": "https://localhost:8080/"
        },
        "id": "9QbcssTqW471",
        "outputId": "55719947-4717-42e8-b8ac-7be4719c4a6d"
      },
      "execution_count": 38,
      "outputs": [
        {
          "output_type": "stream",
          "name": "stdout",
          "text": [
            "A r y a n "
          ]
        }
      ]
    },
    {
      "cell_type": "code",
      "source": [],
      "metadata": {
        "id": "_0i8BRkiXHcZ"
      },
      "execution_count": null,
      "outputs": []
    }
  ]
}