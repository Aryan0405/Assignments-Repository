{
  "nbformat": 4,
  "nbformat_minor": 0,
  "metadata": {
    "colab": {
      "provenance": []
    },
    "kernelspec": {
      "name": "python3",
      "display_name": "Python 3"
    },
    "language_info": {
      "name": "python"
    }
  },
  "cells": [
    {
      "cell_type": "code",
      "execution_count": null,
      "metadata": {
        "id": "-OFQpGzAHPOR"
      },
      "outputs": [],
      "source": []
    },
    {
      "cell_type": "markdown",
      "source": [
        "Q1.Discuss string slicing and provide examples.\n",
        "-->String slicing means accessing a string and modifying the result according to us. We can define a string and then only get part of the string by slicing it. Some examples are shown below."
      ],
      "metadata": {
        "id": "QZoHlSGqHgqv"
      }
    },
    {
      "cell_type": "code",
      "source": [
        "string1 = \"Earth is the 3rd planet from the sun\"\n",
        "string1[0:4]"
      ],
      "metadata": {
        "colab": {
          "base_uri": "https://localhost:8080/",
          "height": 36
        },
        "id": "RGw7h1m7IT4G",
        "outputId": "d7aacfae-b2b7-4d3e-85aa-bcd5cd9e10e5"
      },
      "execution_count": 1,
      "outputs": [
        {
          "output_type": "execute_result",
          "data": {
            "text/plain": [
              "'Eart'"
            ],
            "application/vnd.google.colaboratory.intrinsic+json": {
              "type": "string"
            }
          },
          "metadata": {},
          "execution_count": 1
        }
      ]
    },
    {
      "cell_type": "code",
      "source": [
        "string2 = \"hello world\"\n",
        "string2[:-2]"
      ],
      "metadata": {
        "colab": {
          "base_uri": "https://localhost:8080/",
          "height": 36
        },
        "id": "lHdNGiSmIkON",
        "outputId": "dee3f9fc-7642-482b-b000-0b680b47d2bb"
      },
      "execution_count": 2,
      "outputs": [
        {
          "output_type": "execute_result",
          "data": {
            "text/plain": [
              "'hello wor'"
            ],
            "application/vnd.google.colaboratory.intrinsic+json": {
              "type": "string"
            }
          },
          "metadata": {},
          "execution_count": 2
        }
      ]
    },
    {
      "cell_type": "code",
      "source": [
        "string2[:-2:2]"
      ],
      "metadata": {
        "colab": {
          "base_uri": "https://localhost:8080/",
          "height": 36
        },
        "id": "OGngB4xRI6bh",
        "outputId": "0feae5df-247a-4d8c-c1ee-214497b9c6a5"
      },
      "execution_count": 3,
      "outputs": [
        {
          "output_type": "execute_result",
          "data": {
            "text/plain": [
              "'hlowr'"
            ],
            "application/vnd.google.colaboratory.intrinsic+json": {
              "type": "string"
            }
          },
          "metadata": {},
          "execution_count": 3
        }
      ]
    },
    {
      "cell_type": "markdown",
      "source": [
        "Q2.Explain the key features of lists in Python.\n",
        "-->Lists are ordered collection of items.it is like a shopping bag which can carry all different kinds of things.it can have string, integer, float, boolean value and complex number also.Lists are mutable as well.Following examples will show how to access modify and delete items from a list."
      ],
      "metadata": {
        "id": "0iBVbPfsJLDz"
      }
    },
    {
      "cell_type": "code",
      "source": [
        "grocery_list = [\"Milk\", \"Cheese\", \"Butter\"]\n",
        "grocery_list"
      ],
      "metadata": {
        "colab": {
          "base_uri": "https://localhost:8080/"
        },
        "id": "1EZlRYaHJCvx",
        "outputId": "1f882715-befa-48ee-aff2-735f6dca86b8"
      },
      "execution_count": 4,
      "outputs": [
        {
          "output_type": "execute_result",
          "data": {
            "text/plain": [
              "['Milk', 'Cheese', 'Butter']"
            ]
          },
          "metadata": {},
          "execution_count": 4
        }
      ]
    },
    {
      "cell_type": "code",
      "source": [
        "grocery_list[1]"
      ],
      "metadata": {
        "colab": {
          "base_uri": "https://localhost:8080/",
          "height": 36
        },
        "id": "QyfeLA9VKP8i",
        "outputId": "bc17dd46-6f28-4939-c716-95595613d92a"
      },
      "execution_count": 5,
      "outputs": [
        {
          "output_type": "execute_result",
          "data": {
            "text/plain": [
              "'Cheese'"
            ],
            "application/vnd.google.colaboratory.intrinsic+json": {
              "type": "string"
            }
          },
          "metadata": {},
          "execution_count": 5
        }
      ]
    },
    {
      "cell_type": "code",
      "source": [
        "grocery_list[1] = \"Ice cream\"\n",
        "grocery_list"
      ],
      "metadata": {
        "colab": {
          "base_uri": "https://localhost:8080/"
        },
        "id": "KzubtOVKKSB2",
        "outputId": "23fbab4b-1080-401b-c5c6-81f1096bbc83"
      },
      "execution_count": 6,
      "outputs": [
        {
          "output_type": "execute_result",
          "data": {
            "text/plain": [
              "['Milk', 'Ice cream', 'Butter']"
            ]
          },
          "metadata": {},
          "execution_count": 6
        }
      ]
    },
    {
      "cell_type": "code",
      "source": [
        "del grocery_list[0]\n",
        "grocery_list"
      ],
      "metadata": {
        "colab": {
          "base_uri": "https://localhost:8080/"
        },
        "id": "RIt8HqB6KUe8",
        "outputId": "ec899efb-d81b-4966-b569-785dc7ee4022"
      },
      "execution_count": 7,
      "outputs": [
        {
          "output_type": "execute_result",
          "data": {
            "text/plain": [
              "['Ice cream', 'Butter']"
            ]
          },
          "metadata": {},
          "execution_count": 7
        }
      ]
    },
    {
      "cell_type": "markdown",
      "source": [
        "Q3. Compare and contrast tuples and lists with examples.\n",
        "-->Tuples are denoted by \"()\" whereas lists are denoted by \"[]\".Lists are mutable whereas tuples are immutable."
      ],
      "metadata": {
        "id": "7pdw-FTzKnkw"
      }
    },
    {
      "cell_type": "markdown",
      "source": [
        "Q4.Describe the key features of sets and provide examples of their use.\n",
        "-->Sets are unordered and unique collection of elements and it doesn't allow us to duplicate elements.Since it is unodered we cannot index it."
      ],
      "metadata": {
        "id": "rP4fdcnmLZGi"
      }
    },
    {
      "cell_type": "code",
      "source": [
        "s = {1,2,3,1,2,3,1,2,3,1,2,3}\n",
        "s"
      ],
      "metadata": {
        "colab": {
          "base_uri": "https://localhost:8080/"
        },
        "id": "Glyd-G9oLYCH",
        "outputId": "2a87a1a3-9b13-4391-f912-5540bdfb09e2"
      },
      "execution_count": 8,
      "outputs": [
        {
          "output_type": "execute_result",
          "data": {
            "text/plain": [
              "{1, 2, 3}"
            ]
          },
          "metadata": {},
          "execution_count": 8
        }
      ]
    },
    {
      "cell_type": "markdown",
      "source": [
        "Sets can be used in cases where we only want to know the unique set of elements.\n",
        "\n",
        "\n",
        "Q5.Discuss the use cases of tuples and sets in Python programming.\n",
        "-->Tuples are used in case of fixed data collection.When you have data that shouldn't change such as an employee details registry.\n",
        "Sets are used for removing duplicates.sets automatically filter out duplicate values making them ideal for deduplication.it can be done by converting list to set and then after deduplication we can make it a list again."
      ],
      "metadata": {
        "id": "SQg94RajMT6f"
      }
    },
    {
      "cell_type": "markdown",
      "source": [
        "Q6. Describe how to add, modify, and delete items in a dictionary with examples.\n",
        "-->see the following examples:-"
      ],
      "metadata": {
        "id": "xEpHEGFJON3z"
      }
    },
    {
      "cell_type": "code",
      "source": [
        "d={\"name\":\"Aryan\", \"age\":18, \"gender\":\"male\"}\n",
        "d"
      ],
      "metadata": {
        "colab": {
          "base_uri": "https://localhost:8080/"
        },
        "id": "JKOjcJ8kOWkz",
        "outputId": "6f3cab07-cb9a-4c3f-8401-8929ee3a7a46"
      },
      "execution_count": 10,
      "outputs": [
        {
          "output_type": "execute_result",
          "data": {
            "text/plain": [
              "{'name': 'Aryan', 'age': 18, 'gender': 'male'}"
            ]
          },
          "metadata": {},
          "execution_count": 10
        }
      ]
    },
    {
      "cell_type": "code",
      "source": [
        "d[\"course\"]=\"data_science\"\n",
        "d"
      ],
      "metadata": {
        "colab": {
          "base_uri": "https://localhost:8080/"
        },
        "id": "kikG6FygMH4_",
        "outputId": "923bd10e-863b-4442-ba86-40ffc19ab871"
      },
      "execution_count": 13,
      "outputs": [
        {
          "output_type": "execute_result",
          "data": {
            "text/plain": [
              "{'name': 'Aryan', 'age': 18, 'gender': 'male', 'course': 'data_science'}"
            ]
          },
          "metadata": {},
          "execution_count": 13
        }
      ]
    },
    {
      "cell_type": "code",
      "source": [
        "d[\"age\"]"
      ],
      "metadata": {
        "colab": {
          "base_uri": "https://localhost:8080/"
        },
        "id": "aPFoOoU5O2Uq",
        "outputId": "5619e9de-945d-4656-fcfa-4e01b23bea44"
      },
      "execution_count": 14,
      "outputs": [
        {
          "output_type": "execute_result",
          "data": {
            "text/plain": [
              "18"
            ]
          },
          "metadata": {},
          "execution_count": 14
        }
      ]
    },
    {
      "cell_type": "markdown",
      "source": [
        "Q7.Discuss the importance of dictionary keys being immutable and provide example.\n",
        "-->Immutable keys prevent accidental changes and errors.for example:In case of employee records if it were stored in a data structure which is mutable such as list that could lead to many issues like data manipulation and corruption."
      ],
      "metadata": {
        "id": "jdgsg6OJPhTz"
      }
    },
    {
      "cell_type": "code",
      "source": [],
      "metadata": {
        "id": "2UKHOzLRPSXO"
      },
      "execution_count": null,
      "outputs": []
    }
  ]
}